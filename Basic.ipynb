{
 "cells": [
  {
   "cell_type": "code",
   "execution_count": null,
   "metadata": {},
   "outputs": [],
   "source": [
    "# Online Python compiler (interpreter) to run Python online.\n",
    "sem_pay = int(input('Annual payment: $')) #input can take only one argument use end ='' for more\n",
    "interest = 0.088\n",
    "pay = 0\n",
    "for loan_term in range(5):\n",
    "    pay += sem_pay\n",
    "    pay += pay*interest\n",
    "print('Net amount payable $', format(pay, '.2f'), sep='')"
   ]
  },
  {
   "cell_type": "code",
   "execution_count": 1,
   "metadata": {
    "scrolled": false
   },
   "outputs": [
    {
     "name": "stdout",
     "output_type": "stream",
     "text": [
      "One\n",
      "\"Two\"\n",
      "Three I'm Arghya\n",
      "What is your name:Arghya\n",
      "What is your age:19\n",
      "How much do you owe in a year:5000\n",
      "Arghya owes $416.67\n",
      "Arghya is doing great.\n"
     ]
    }
   ],
   "source": [
    "print(\"\"\"One\n",
    "\"Two\"\n",
    "Three\"\"\", \"I'm Arghya\")\n",
    "\n",
    "type(1.0) #Used to determine int or float (Only printed individually)\n",
    "\n",
    "name = input('What is your name:')\n",
    "age = int(input('What is your age:'))\n",
    "loan = int(input('How much do you owe in a year:')) #Use float() for float\n",
    "loan_m = loan / 12\n",
    "print(name, 'owes', end=' ')\n",
    "print('$' + format(loan_m, ',.2f')) #Try .1f\n",
    "if loan_m < 500 and age < 50: # or, not operator also possible\n",
    "    print(name, 'is doing great.')\n",
    "elif 1000 >= loan_m >= 500 and age < 25:\n",
    "    print(name, 'is fine.')\n",
    "else:\n",
    "    print(name, 'is broke.')"
   ]
  },
  {
   "cell_type": "code",
   "execution_count": 1,
   "metadata": {},
   "outputs": [
    {
     "name": "stdout",
     "output_type": "stream",
     "text": [
      "6969 6.97e+03\n",
      "             6969.00 is my lucky number\n",
      "     6,969   6,969.00\n",
      "50%\n"
     ]
    }
   ],
   "source": [
    "luck= 900 + 6000 \\\n",
    "+ 60 + 12 + -5//2 \n",
    "#Greatest integer function upon division\n",
    "#Replace parenthesis() with backslash (No comment allowed)\n",
    "print(luck, format(luck,'.2e')) #Try only e\n",
    "print(format(luck, '20.2f'), 'is my lucky number') #integer before .2f specifies distance between previous data and decimal \n",
    "print(format(luck, '10,d'), format(luck, '10,.2f'))\n",
    "print(format(0.5, '.0%')) #returns percent with percentage sign, try only %\n"
   ]
  },
  {
   "cell_type": "code",
   "execution_count": null,
   "metadata": {},
   "outputs": [],
   "source": [
    "print('One', end='')\n",
    "print('Two')\n",
    "print('One', 'Two', 'Three', sep='') #Other things can be put inside sep\n",
    "print('One\\nTwo\\tThree\\'Four\\\"Five\\\\')\n",
    "#"
   ]
  },
  {
   "cell_type": "code",
   "execution_count": 13,
   "metadata": {},
   "outputs": [
    {
     "name": "stdout",
     "output_type": "stream",
     "text": [
      "How much do you owe:5000\n",
      "How much do you want to pay:5000\n",
      "You owe $0.00\n",
      "1\n",
      "hello world\n",
      "Two\n",
      "hello world\n",
      "1\n",
      "3\n",
      "5\n",
      "7\n",
      "9\n",
      "11\n",
      "13\n",
      "15\n",
      "17\n",
      "19\n"
     ]
    }
   ],
   "source": [
    "#while condition:\n",
    "debt = int(input('How much do you owe:'))\n",
    "while debt <= 0:\n",
    "    print('Debt cannot be less than equal to zero')\n",
    "    debt = int(input('How much do you owe:'))\n",
    "while debt > 0:\n",
    "    pay = int(input('How much do you want to pay:'))\n",
    "    debt -= pay\n",
    "    debt *= 1.04\n",
    "    print('You owe $', format(debt, '2,.2f'), sep='')\n",
    "\n",
    "#for variable in [val1, val2, val3,...]\n",
    "for num in [1, 'Two']:\n",
    "    print(num)\n",
    "    print('hello world')\n",
    "for num in range(1, 21, 2): #ramge is a list\n",
    "    print(num)"
   ]
  },
  {
   "cell_type": "code",
   "execution_count": 3,
   "metadata": {},
   "outputs": [
    {
     "name": "stdout",
     "output_type": "stream",
     "text": [
      "##\n",
      "# #\n",
      "#  #\n",
      "#   #\n",
      "#    #\n",
      "#     #\n",
      "#      #\n"
     ]
    }
   ],
   "source": [
    "for ha in range(7):\n",
    "    print('#', end='')\n",
    "    for haash in range(ha):\n",
    "        print(' ', end = '')\n",
    "    print('#')\n"
   ]
  },
  {
   "cell_type": "code",
   "execution_count": null,
   "metadata": {},
   "outputs": [],
   "source": [
    "import random \n",
    "random.seed(10)\n",
    "def main():\n",
    "    rand_1 = random.randint(1, p) #random digits include p\n",
    "    rand_2 = random.randrange(5, 100, 5)\n",
    "    print(rand_1, rand_2)\n",
    "for p in range(1, 50):\n",
    "    main()"
   ]
  },
  {
   "cell_type": "code",
   "execution_count": null,
   "metadata": {},
   "outputs": [],
   "source": [
    "disc_perc = 0.2\n",
    "\n",
    "def main():\n",
    "    p = reg_price()\n",
    "    disc_price = p - disc(p)\n",
    "    \n",
    "    print('Sale price of item:', format(disc_price, ',.2f'))\n",
    "\n",
    "def reg_price():\n",
    "    price = float(input('What is the item regular price: t'))\n",
    "    return price\n",
    "\n",
    "def disc(price):\n",
    "    return price*disc_perc\n",
    "\n",
    "main()"
   ]
  },
  {
   "cell_type": "code",
   "execution_count": null,
   "metadata": {},
   "outputs": [],
   "source": [
    "def main():\n",
    "    first_name, last_name = get_name()\n",
    "    print(first_name, last_name)\n",
    "\n",
    "def get_name():\n",
    "    first = input('Enter your first name: ')\n",
    "    last = input('Enter your last name: ')\n",
    "    return first, last\n",
    "\n",
    "main()"
   ]
  },
  {
   "cell_type": "code",
   "execution_count": null,
   "metadata": {
    "scrolled": false
   },
   "outputs": [],
   "source": [
    "#math >> import math >> math.(ceil, floor, sin, asin, log10, sqrt, exp, degrees, radians)(x) math.hypot(x,y) math.pi math.e\n",
    "import math\n",
    "\n",
    "def circle_area(radius):\n",
    "    return math.pi*radius**2\n",
    "def circum(radius):\n",
    "    return math.pi*radius*2\n",
    "\n",
    "def rect_area(length, width):\n",
    "    return length*width\n",
    "def peri(length, width):\n",
    "    return 2*(length + width)\n",
    "\n",
    "def get_radius():\n",
    "    radi = float(input('Enter circle radius: '))\n",
    "    return radi\n",
    "def get_length():\n",
    "    leng = float(input('Enter rectangle length: '))\n",
    "    return leng\n",
    "def get_width():\n",
    "    widt = float(input('Enter rectangle width: '))\n",
    "    return widt\n",
    "\n",
    "def display_menu():\n",
    "    print()\n",
    "    print('1.', one)\n",
    "    print('2.', two)\n",
    "    print('3.', three)\n",
    "    print('4.', four)\n",
    "    print('5. Quit')\n",
    "    \n",
    "one = 'Area of circle'\n",
    "two = 'Circumference of circle'\n",
    "three = 'Area of rectangle'\n",
    "four = 'Perimeter of rectangle'\n",
    "    \n",
    "def main():\n",
    "    choice = 0\n",
    "    \n",
    "    while choice != 5:  \n",
    "        display_menu()\n",
    "        choice = int(input('Your Choice: '))\n",
    "        if choice == 1: # Never do this in real code\n",
    "            print(one, 'is', format(circle_area(get_radius()), '.2f'))\n",
    "        elif choice == 2:\n",
    "            print(two, 'is', format(circum(get_radius()), '.2f'))\n",
    "        elif choice == 3:\n",
    "            print(three, 'is', format(rect_area(get_length(), get_width()), '.2f'))\n",
    "        elif choice == 4:\n",
    "            print(four, 'is', format(peri(get_length(), get_width()), '.2f'))\n",
    "        elif choice == 5:\n",
    "            print('Quitting the program...')\n",
    "        else:\n",
    "            print('Please enter correct choice')\n",
    "\n",
    "main()"
   ]
  },
  {
   "cell_type": "code",
   "execution_count": 4,
   "metadata": {},
   "outputs": [
    {
     "name": "stdout",
     "output_type": "stream",
     "text": [
      "Arghya\n",
      "Biswajit\n",
      "Archana\n",
      "\n",
      "Arghya Biswajit Archana\n",
      "Arghya\n",
      "\n",
      "Biswajit\n",
      "\n",
      "Archana\n",
      "\n"
     ]
    }
   ],
   "source": [
    "# var = open('file', 'mode') var.close/write/read/readline()\n",
    "def main():\n",
    "    cust_file = open('customers.txt', 'w') # cleans off previous data\n",
    "    cust_file.write('Arghya\\n')\n",
    "    cust_file.write('Biswajit\\n')\n",
    "    cust_file.write('Archana\\n')\n",
    "    cust_file.close()\n",
    "    \n",
    "    cust_file = open('customers.txt', 'r') # 'a' to append\n",
    "    print(cust_file.read())\n",
    "    cust_file.close()\n",
    "\n",
    "    cust_file = open('customers.txt', 'r')\n",
    "    print(cust_file.readline().rstrip('\\n'), cust_file.readline().rstrip('\\n'), cust_file.readline().rstrip('\\n'))\n",
    "    #.rstrip() finds and strips data from right side of string\n",
    "    #.readline() reads one line at a time\n",
    "    cust_file.close()\n",
    "    \n",
    "    cust_file = open('customers.txt', 'r')\n",
    "    print(cust_file.readline())\n",
    "    print(cust_file.readline())\n",
    "    print(cust_file.readline())\n",
    "    cust_file.close()\n",
    "\n",
    "main()"
   ]
  },
  {
   "cell_type": "code",
   "execution_count": null,
   "metadata": {
    "scrolled": true
   },
   "outputs": [],
   "source": [
    "def main():\n",
    "    cust_file = open('customers.txt', 'w') # cleans off previous data\n",
    "    cust_file.write(str(1) + '\\t') #use srt()<->int() command to convert int to strings before writing\n",
    "    cust_file.write('Arghya\\n')\n",
    "    cust_file.write(str(2) + '\\t')\n",
    "    cust_file.write('Biswajit\\n')\n",
    "    cust_file.write(str(3) + '\\t')\n",
    "    cust_file.write('Archana\\n')\n",
    "    cust_file.close()\n",
    "        \n",
    "main()"
   ]
  },
  {
   "cell_type": "code",
   "execution_count": null,
   "metadata": {},
   "outputs": [],
   "source": [
    "#continuous line reader\n",
    "def main():\n",
    "    num_file = open('numbers.txt', 'w')\n",
    "    for x in range(9):\n",
    "        num_file.write(str(x)+'\\n')\n",
    "    num_file.close()\n",
    "    \n",
    "    # read using while\n",
    "    num_file = open('numbers.txt', 'r')\n",
    "    line = num_file.readline()\n",
    "    while line != '':\n",
    "        print(format(float(line), '.2f'))\n",
    "        line = num_file.readline()\n",
    "    \n",
    "    # read using for loop\n",
    "    for line in num_file:\n",
    "        print(format(float(line), '.2f'))\n",
    "        \n",
    "    num_file.close()\n",
    "    \n",
    "main()"
   ]
  },
  {
   "cell_type": "code",
   "execution_count": 1,
   "metadata": {},
   "outputs": [
    {
     "name": "stdout",
     "output_type": "stream",
     "text": [
      "Add description to coffee type: Mocha Frappuccino\n",
      "Add price: $4.25\n",
      "To continue press Y/ To end press any other button:y\n",
      "\n",
      "Add description to coffee type: Mocha grande\n",
      "Add price: $4.95\n",
      "To continue press Y/ To end press any other button:y\n",
      "\n",
      "Add description to coffee type: Mocha venti\n",
      "Add price: $5.25\n",
      "To continue press Y/ To end press any other button:n\n",
      "\n",
      "Description of coffee is Mocha Frappuccino\n",
      "Price of coffee is $4.25\n",
      "Description of coffee is Mocha grande\n",
      "Price of coffee is $4.95\n",
      "Description of coffee is Mocha venti\n",
      "Price of coffee is $5.25\n"
     ]
    }
   ],
   "source": [
    "# Coffee names\n",
    "def main():\n",
    "    cof_log = open('coffee.txt', 'w')\n",
    "    cont = 'y'\n",
    "    while cont.lower() == 'y':\n",
    "        cof_log.write(input('Add description to coffee type: ') + '\\n')\n",
    "        cof_log.write(str(float(input('Add price: $'))) + '\\n')\n",
    "        cont = input('To continue press Y/ To end press any other button:')\n",
    "        print()\n",
    "    cof_log.close()\n",
    "    \n",
    "    cof_log = open('coffee.txt', 'r')\n",
    "    desc = cof_log.readline()\n",
    "    while desc != '':\n",
    "        pric = cof_log.readline()\n",
    "        print('Description of coffee is ' + desc.rstrip('\\n'))\n",
    "        print('Price of coffee is $' + format(float(pric), '.2f'))\n",
    "        desc = cof_log.readline()\n",
    "    cof_log.close()\n",
    "    \n",
    "    #binary search\n",
    "    found = False\n",
    "    search = input('Please enter coffee description: ')\n",
    "    cof_log = open('coffee.txt', 'r')\n",
    "    desc = cof_log.readline()\n",
    "    while desc != '':\n",
    "        desc = desc.rstrip('\\n')\n",
    "        pric = cof_log.readline()\n",
    "        if desc == search:\n",
    "            print('Description of coffee is ' + desc)\n",
    "            print('Price of coffee is $' + format(float(pric), '.2f'))\n",
    "            found = True\n",
    "        desc = cof_log.readline()\n",
    "    cof_log.close()\n",
    "    if not found: #found == False\n",
    "        print('Sorry could not find your item!')\n",
    "    \n",
    "main()"
   ]
  },
  {
   "cell_type": "code",
   "execution_count": 6,
   "metadata": {},
   "outputs": [
    {
     "name": "stdout",
     "output_type": "stream",
     "text": [
      "Description of coffee is Mocha Frappuccino\n",
      "Price of coffee is $4.25\n",
      "Description of coffee is Mocha grande\n",
      "Price of coffee is $4.95\n",
      "Description of coffee is Mocha venti\n",
      "Price of coffee is $5.50\n",
      "Please enter description for item which you would like to change price: n\n",
      "Please enter new price: 6.00\n",
      "Item not found in file.\n"
     ]
    }
   ],
   "source": [
    "#Modifying coffee records\n",
    "import os #import os to rename and delete\n",
    "\n",
    "def main():\n",
    "    \n",
    "    cof_log = open('coffee.txt', 'r')\n",
    "    desc = cof_log.readline()\n",
    "    while desc != '':\n",
    "        pric = cof_log.readline()\n",
    "        print('Description of coffee is ' + desc.rstrip('\\n'))\n",
    "        print('Price of coffee is $' + format(float(pric), '.2f'))\n",
    "        desc = cof_log.readline()\n",
    "    cof_log.close()\n",
    "    \n",
    "    found = False\n",
    "    cof_log = open('coffee.txt', 'r')\n",
    "    temp = open('temp.txt', 'w')\n",
    "    search = input('Please enter description for item which you would like to change price: ')\n",
    "    new_pric = format(float(input('Please enter new price: ')), '.2f')\n",
    "    # search = input('Please enter description for item which you would like to delete: ')\n",
    "    desc = cof_log.readline()\n",
    "    while desc != '':\n",
    "        desc = desc.rstrip('\\n')\n",
    "        pric = float(cof_log.readline())\n",
    "        if desc == search:\n",
    "            temp.write(search + '\\n')      # Remove these two lines\n",
    "            temp.write(str(new_pric) +'\\n')# to delete data selected\n",
    "            found = True\n",
    "        else:\n",
    "            temp.write(desc + '\\n')\n",
    "            temp.write(str(pric) +'\\n')\n",
    "\n",
    "# Faster method to delete\n",
    "#        if desc != search:\n",
    "#            temp.write(desc + '\\n')\n",
    "#            temp.write(str(pric) +'\\n')\n",
    "#        else:\n",
    "#            found = True\n",
    "        \n",
    "        desc = cof_log.readline()\n",
    "    cof_log.close()\n",
    "    temp.close()\n",
    "    os.remove('coffee.txt')\n",
    "    os.rename('temp.txt', 'coffee.txt')\n",
    "    if found:\n",
    "        print('File has been updated.')\n",
    "    else:\n",
    "        print('Item not found in file.')\n",
    "\n",
    "main()\n",
    "#Things to check for:\n",
    "#Closing a file\n",
    "#If loop is complete"
   ]
  },
  {
   "cell_type": "code",
   "execution_count": 11,
   "metadata": {},
   "outputs": [
    {
     "name": "stdout",
     "output_type": "stream",
     "text": [
      "Please enter filename: bs.txt\n",
      "[Errno 2] No such file or directory: 'bs.txt'\n"
     ]
    }
   ],
   "source": [
    "#Exceptions >>try: >>except ExceptionName:\n",
    "def main():\n",
    "    file_name = input('Please enter filename: ')\n",
    "    try:\n",
    "        file = open(file_name, 'r')\n",
    "        print(file.read())\n",
    "        file.close()\n",
    "#    except IOError as err:\n",
    "#        print(err)\n",
    "\n",
    "#    except IOError:\n",
    "#        print('An error occured while reading file.')\n",
    "\n",
    "    except Exception as err:\n",
    "        print(err)\n",
    "    \n",
    "main()\n",
    "#Exception names\n",
    "#ValueError: Invalid literal for int() with base 10:\n",
    "#IOError: [Errno 2] No such file or directory: \n",
    "#ZeroDivisionError"
   ]
  },
  {
   "cell_type": "code",
   "execution_count": 19,
   "metadata": {},
   "outputs": [
    {
     "name": "stdout",
     "output_type": "stream",
     "text": [
      "The total of data is 21,017.00\n"
     ]
    }
   ],
   "source": [
    "def main():\n",
    "#    sales_data = open('sales.txt', 'w')\n",
    "#    cont = 'y'\n",
    "#    while cont.lower() ==  'y':\n",
    "#        sales_data.write(format(float(input('Enter data: ')), '.2f') + '\\n')\n",
    "#        cont = input('Do you want to continue: ')\n",
    "#    sales_data.close()\n",
    "    \n",
    "    total = 0.0\n",
    "    try:\n",
    "        sales_data = open('sales.txt', 'r')\n",
    "        for data in sales_data:\n",
    "            total += float(data)\n",
    "        sales_data.close()\n",
    "    except Exception as err:\n",
    "        print(err)\n",
    "    else: #executed incase of no exceptions\n",
    "        print('The total of data is', format(total, ',.2f'))\n",
    "#    finally: #always executed with the try clause\n",
    "#        code ... code\n",
    "main()"
   ]
  },
  {
   "cell_type": "code",
   "execution_count": 15,
   "metadata": {},
   "outputs": [
    {
     "name": "stdout",
     "output_type": "stream",
     "text": [
      "[0, 1, 2, 3, 4, 'Zero', 1, 'Two']\n",
      "[0, 0, 0, 0, 0]\n",
      "0\n",
      "1\n",
      "2\n",
      "3\n",
      "4\n",
      "Zero\n",
      "1\n",
      "Two\n",
      "\n",
      "[1, 2, 3]\n",
      "[1, 2, 3]\n",
      "[5, 6, 7, 8, 9, 11]\n",
      "[5, 6, 7, 8, 9, 11]\n",
      "[3, 4, 5, 6, 7, 8]\n",
      "[3, 5, 7]\n",
      "[6, 7, 8, 9, 11]\n",
      "[6, 7, 8, 9, 11]\n",
      "[1, 2, 3, 4, 5]\n",
      "[1, 2, 3, 4, 5]\n",
      "\n",
      "[1, 2, 3, 4, 5, 69, 6, 7, 8, 9, 11, 10]\n",
      "Index of 5 is 4\n",
      "[1, 2, 3, 4, 5, 6, 7, 8, 9, 10, 11, 69]\n",
      "[11, 10, 9, 8, 7, 6, 5, 4, 3, 2, 1]\n",
      "[10, 9, 8, 7, 6, 5, 4, 3, 2, 1]\n",
      "The highest and lowest values in the list are 10 and 1 respectively\n"
     ]
    }
   ],
   "source": [
    "numbers = list(range(5))\n",
    "numbers += ['Zero', 1, 'Two']\n",
    "print(numbers)\n",
    "matrix = [0] * 5\n",
    "print(matrix)\n",
    "\n",
    "my_list = numbers\n",
    "index = 0\n",
    "while index < len(my_list):\n",
    "    print(my_list[index])\n",
    "    index += 1\n",
    "print()\n",
    "\n",
    "numbers =[1, 2, 3, 4, 5, 6, 7, 8, 9]\n",
    "# Always count number of commas while making divisions\n",
    "print(numbers[:3]) #all data till 3rd comma\n",
    "print(numbers[0:3])\n",
    "print(numbers[4:]) #all data from 4th comma\n",
    "print(numbers[4:len(numbers)])\n",
    "print(numbers[2:8]) #from 2nd comma to 8th comma\n",
    "print(numbers[2:8:2]) #distance in commas\n",
    "print(numbers[-5:])\n",
    "val = -5 % len(numbers)\n",
    "print(numbers[val:])\n",
    "print(numbers[:-5])\n",
    "val = -5 % len(numbers)\n",
    "print(numbers[:val])\n",
    "#if search in my_list:\n",
    "#    print(search)\n",
    "print()\n",
    "\n",
    "#.append(item), .insert(index, item), .index(item), .sort(), .reverse(), .remove(item), del list_name[index]\n",
    "numbers.append(10) # do not assign list.append(item) a new variable this is because lists are not mutable\n",
    "# eg numbers = numbers.append(10) is not valid\n",
    "numbers.insert(5, 69) # my_list.insert(index, item)\n",
    "print(numbers)\n",
    "num = 5\n",
    "print('Index of', num, 'is', numbers.index(num))\n",
    "numbers.sort()\n",
    "print(numbers)\n",
    "numbers.reverse()\n",
    "numbers.remove(69)\n",
    "print(numbers)\n",
    "del numbers[0] #delete items of specific indexes\n",
    "print(numbers)\n",
    "print('The highest and lowest values in the list are', max(numbers), 'and', min(numbers), 'respectively')"
   ]
  },
  {
   "cell_type": "code",
   "execution_count": 4,
   "metadata": {},
   "outputs": [
    {
     "name": "stdout",
     "output_type": "stream",
     "text": [
      "Employee 1 worked for hour(s): 5\n",
      "Employee 2 worked for hour(s): 3\n",
      "Employee 3 worked for hour(s): 7\n",
      "Employee 4 worked for hour(s): 8\n",
      "Employee 5 worked for hour(s): 5\n",
      "The hourly wages is $12.5\n",
      "Employee 1 earned $62.50\n",
      "Employee 2 earned $37.50\n",
      "Employee 3 earned $87.50\n",
      "Employee 4 earned $100.00\n",
      "Employee 5 earned $62.50\n",
      "The total wages were $350.00\n"
     ]
    }
   ],
   "source": [
    "# Barista payments\n",
    "NUM_EMP = 5\n",
    "hours = [0] * NUM_EMP\n",
    "index = 0\n",
    "while index < NUM_EMP:\n",
    "    print('Employee', index+1, 'worked for hour(s): ', end='')\n",
    "    hours[index] = float(input())\n",
    "    index += 1\n",
    "wages = float(input('The hourly wages is $'))\n",
    "total = 0.0\n",
    "index = 0\n",
    "for hr in hours:\n",
    "    earning = hr * wages\n",
    "    print('Employee', index+1, 'earned', '$', end='')\n",
    "    print(format(earning, '.2f'))\n",
    "    total += earning\n",
    "    index += 1\n",
    "print('The total wages were $', format(total, '.2f'), sep='') # Use format during reading"
   ]
  },
  {
   "cell_type": "code",
   "execution_count": 3,
   "metadata": {
    "scrolled": true
   },
   "outputs": [
    {
     "name": "stdout",
     "output_type": "stream",
     "text": [
      "Enter num:5\n",
      "Enter num:5\n",
      "Enter num:5\n",
      "['5', 5.0, '5.00']\n",
      "Number 5\n",
      "Number 5.0\n",
      "Number 5.00\n"
     ]
    }
   ],
   "source": [
    "my_list =[]\n",
    "my_list.append(input('Enter num:')) # input command outputs strings\n",
    "my_list.append(float(input('Enter num:'))) # float command outputs float\n",
    "my_list.append(format(float(input('Enter num:')), '.2f')) # format command outputs strings\n",
    "print(my_list)\n",
    "\n",
    "for item in my_list:\n",
    "    print('Number', item) # use + and observe\n",
    "\n",
    "# USE format() ONLY when printing or writing\n",
    "#sep='' and end='' are better because \n",
    "#operations like + (to join strings) only works if both items are of same type i.e. string\n",
    "#string + int/float is not possible"
   ]
  },
  {
   "cell_type": "code",
   "execution_count": 4,
   "metadata": {},
   "outputs": [
    {
     "name": "stdout",
     "output_type": "stream",
     "text": [
      "New York\n",
      "Boston\n",
      "San Fransisco\n",
      "Washington DC\n",
      "Philedelphia\n",
      "\n",
      "['New York', 'Boston', 'San Fransisco', 'Washington DC', 'Philedelphia']\n"
     ]
    }
   ],
   "source": [
    "def main():\n",
    "    cities = ['New York', 'Boston', 'San Fransisco', 'Washington DC', 'Philedelphia']\n",
    "    outfile = open('cities.txt', 'w')\n",
    "    i = 0\n",
    "    for city in cities:\n",
    "        cities[i] += '\\n'\n",
    "        i += 1\n",
    "    outfile.writelines(cities)\n",
    "    #    outfile.writelines(city + '\\n') # writelines list -> txt\n",
    "    outfile.close()\n",
    "    \n",
    "    outfile = open('cities.txt', 'r')\n",
    "    print(outfile.read())\n",
    "    outfile.close()\n",
    " \n",
    "    \n",
    "    infile = open('cities.txt', 'r')\n",
    "    cyties = infile.readlines() # readlines txt -> list\n",
    "    \n",
    "    # reading mostly requires a while loop\n",
    "    # use a while loop becuse for loop cannot be used to alter actual data, \n",
    "    # variable and additon declation is required in a while loop\n",
    "    index = 0\n",
    "    while index < len(cyties):\n",
    "        cyties[index] = cyties[index].rstrip('\\n')\n",
    "        index += 1\n",
    "    infile.close()\n",
    "    print(cyties)\n",
    "    \n",
    "main()"
   ]
  },
  {
   "cell_type": "code",
   "execution_count": 7,
   "metadata": {},
   "outputs": [
    {
     "name": "stdout",
     "output_type": "stream",
     "text": [
      "[[32, 96, 79], [55, 92, 79], [73, 60, 23]]\n"
     ]
    }
   ],
   "source": [
    "import random\n",
    "\n",
    "def main():\n",
    "    ROW = random.randint(1,5)\n",
    "    COL = random.randint(1,5)\n",
    "    \n",
    "    matrix = get_matrix(ROW, COL)\n",
    "    for r in range(ROW):\n",
    "        for c in range(COL):\n",
    "            matrix[r][c] = random.randint(1, 100)   \n",
    "    print(matrix)\n",
    "\n",
    "def get_matrix(row, col): #important warning below\n",
    "    arr = []\n",
    "    for r in range(row):\n",
    "        cols = []\n",
    "        for c in range(col):\n",
    "            cols.append(0)\n",
    "        arr.append(cols)\n",
    "    return arr\n",
    "\n",
    "def get_matrix_two(row, col):\n",
    "    arr = [[0 for i in range(col)] for j in range(row)]\n",
    "    return arr\n",
    "\n",
    "main()\n",
    "\n"
   ]
  },
  {
   "cell_type": "code",
   "execution_count": 27,
   "metadata": {},
   "outputs": [
    {
     "name": "stdout",
     "output_type": "stream",
     "text": [
      "[1, 0, 0, 0, 0]\n",
      "[1, 0, 0, 0, 0]\n",
      "[1, 0, 0, 0, 0]\n",
      "[1, 0, 0, 0, 0]\n",
      "[1, 0, 0, 0, 0]\n",
      "[1, 0, 0, 0, 0]\n",
      "[0, 0, 0, 0, 0]\n",
      "[0, 0, 0, 0, 0]\n",
      "[0, 0, 0, 0, 0]\n",
      "[0, 0, 0, 0, 0]\n"
     ]
    }
   ],
   "source": [
    "#*#*#*#*#*#*#*#*#*#*#*#*#*#*#*#*#*#*#*#*#*#*#*#*#*#*#*#*#\n",
    "# Python 3 program to demonstrate working\n",
    "# of method 1 and method 2.\n",
    "\n",
    "rows, cols = (5, 5)\n",
    "\n",
    "# method 2a\n",
    "arr = [[0]*cols]*rows\n",
    "\n",
    "# lets change the first element of the\n",
    "# first row to 1 and print the array\n",
    "arr[0][0] = 1\n",
    "\n",
    "for row in arr:\n",
    "\tprint(row)\n",
    "# outputs the following\n",
    "#[1, 0, 0, 0, 0]\n",
    "#[1, 0, 0, 0, 0]\n",
    "#[1, 0, 0, 0, 0]\n",
    "#[1, 0, 0, 0, 0]\n",
    "#[1, 0, 0, 0, 0]\n",
    "\n",
    "# method 2b\n",
    "arr = [[0 for i in range(cols)] for j in range(rows)]\n",
    "\n",
    "# again in this new array lets change\n",
    "# the first element of the first row\n",
    "# to 1 and print the array\n",
    "arr[0][0] = 1\n",
    "for row in arr:\n",
    "\tprint(row)\n",
    "\n",
    "# outputs the following as expected\n",
    "#[1, 0, 0, 0, 0]\n",
    "#[0, 0, 0, 0, 0]\n",
    "#[0, 0, 0, 0, 0]\n",
    "#[0, 0, 0, 0, 0]\n",
    "#[0, 0, 0, 0, 0]\n",
    "#*#*#*#*#*#*#*#*#*#*#*#*#*#*#*#*#*#*#*#*#*#*#*#*#*#*#*#"
   ]
  },
  {
   "cell_type": "code",
   "execution_count": 3,
   "metadata": {
    "scrolled": true
   },
   "outputs": [],
   "source": [
    "#Tuples are same as lists but do not support append, remove, insert, reverse, sort, del\n",
    "my_tuple = (1,) #tuple with one element\n",
    "#list() <-> tuple() for interconversion\n"
   ]
  },
  {
   "cell_type": "code",
   "execution_count": 54,
   "metadata": {
    "scrolled": true
   },
   "outputs": [
    {
     "name": "stdout",
     "output_type": "stream",
     "text": [
      "[1, 2, 3, 4, 5, 6, 7, 8, 9] [7, 10, 9, 5, 10, 5, 1, 9, 9]\n",
      "['2017', '2018', '2019', '2020', '2021', '2022', '2023', '2024', '2025'] ['$1m', '$2m', '$3m', '$4m', '$5m', '$6m', '$7m', '$8m', '$9m']\n"
     ]
    },
    {
     "data": {
      "image/png": "[encoded data removed]",
      "text/plain": [
       "<Figure size 432x288 with 1 Axes>"
      ]
     },
     "metadata": {
      "needs_background": "light"
     },
     "output_type": "display_data"
    },
    {
     "data": {
      "image/png": "[encoded data removed]",
      "text/plain": [
       "<Figure size 432x288 with 1 Axes>"
      ]
     },
     "metadata": {
      "needs_background": "light"
     },
     "output_type": "display_data"
    },
    {
     "data": {
      "image/png": "[encoded data removed]",
      "text/plain": [
       "<Figure size 432x288 with 1 Axes>"
      ]
     },
     "metadata": {},
     "output_type": "display_data"
    }
   ],
   "source": [
    "import matplotlib.pyplot as plt\n",
    "import random\n",
    "\n",
    "def main():\n",
    "    x_coord = []\n",
    "    y_coord = []\n",
    "    rand_min = 1\n",
    "    rand_max = 10\n",
    "    for coord in range(rand_min, rand_max):\n",
    "        x_coord.append(coord)\n",
    "        y_coord.append(random.randint(rand_min, rand_max))    \n",
    "    print(x_coord, y_coord)\n",
    "    \n",
    "##line\n",
    "    plt.plot(x_coord, y_coord)\n",
    "    plt.title('Plot title')\n",
    "    plt.xlabel('This is the x axis')    \n",
    "    plt.ylabel('This is the y axis')\n",
    "    #customise x and y axis \n",
    "    #plt.xlim(xmin = 1, xmax = 10)\n",
    "    #plt.ylim(ymin = 1, ymax = 10)\n",
    "    #customise data into scales before it goes into plot (like redefining)\n",
    "    original = []\n",
    "    xt = []\n",
    "    yt = []\n",
    "    for x in range(rand_min, rand_max):\n",
    "        original.append(x)\n",
    "        xt.append(str(x+2016))\n",
    "        yt.append('$'+str(x)+'m')\n",
    "    print(xt, yt)\n",
    "    plt.xticks(original, xt)\n",
    "    plt.yticks(original, yt)\n",
    "    #plt.xticks([0, 1, 2, 3, 4, 5],['2016', '2017', '2018', '2019', '2020', '2021'])\n",
    "    #plt.yticks([0, 1, 2, 3, 4],['$1m', '$2m', '$3m', '$4m', '$5m'])\n",
    "    plt.grid(True)\n",
    "    \n",
    "    plt.show()\n",
    "    \n",
    "##bar\n",
    "    bar_width = 0.8 #1=100%\n",
    "    plt.bar(x_coord, y_coord, bar_width, color=('r', 'g', 'b', 'w', 'k'))\n",
    "    #plt.bar(x_coord, y_coord, color=('r'))\n",
    "    plt.show()\n",
    "    \n",
    "##pie    \n",
    "    plt.pie(y_coord, labels = x_coord, colors = ('r', 'g', 'b', 'w', 'k'))\n",
    "    #plt.pie(x_coord, y_coord, colors=('r', 'g', 'b', 'w', 'k'))\n",
    "    plt.show()\n",
    "    \n",
    "main()"
   ]
  },
  {
   "cell_type": "code",
   "execution_count": 16,
   "metadata": {},
   "outputs": [
    {
     "name": "stdout",
     "output_type": "stream",
     "text": [
      "True\n",
      "True\n",
      "Zoe Z\n",
      "['Z', 'o', 'e', ' ', 'Z']\n",
      "[]\n",
      "Zoe was found\n"
     ]
    }
   ],
   "source": [
    "name_alpha = 'Zoe Zach'\n",
    "name_beta = ['Z' , 'o' , 'e', ' ', 'Z', 'a', 'c', 'h']\n",
    "n = 5\n",
    "print(name_alpha[n] == name_beta[n])\n",
    "print(len(name_alpha) == len(name_beta))\n",
    "print(name_alpha[:n]) \n",
    "print(name_beta[:n])\n",
    "n = name_alpha.index('Z')\n",
    "print(name_beta[:n])\n",
    "\n",
    "if 'Zoe' in name_alpha:\n",
    "    print('Zoe was found')\n",
    "else:\n",
    "    print('Zoe was not found')"
   ]
  },
  {
   "cell_type": "code",
   "execution_count": 5,
   "metadata": {},
   "outputs": [
    {
     "name": "stdout",
     "output_type": "stream",
     "text": [
      "Please enter your string:rg\n",
      "String has only alphabets. Alphabets in string are all lower case.\n"
     ]
    }
   ],
   "source": [
    "string = input('Please enter your string:')\n",
    "def check_ul(st):\n",
    "    if st.isupper():\n",
    "        return 'Alphabets in string are all upper case.'\n",
    "    elif st.islower():\n",
    "        return 'Alphabets in string are all lower case.'\n",
    "    else:\n",
    "        return ''\n",
    "\n",
    "while string == '':\n",
    "    print('Your string cannot be empty.')\n",
    "    string = input('Please enter your string:')\n",
    "if string.isspace():\n",
    "    print('String has only whitespace.')\n",
    "elif string.isdigit():\n",
    "    print('String has only digits.')\n",
    "elif string.isalpha():\n",
    "    print('String has only alphabets.', check_ul(string))\n",
    "elif string.isalnum():\n",
    "    print('String has only alphabets and numbers.', check_ul(string))\n",
    "else:\n",
    "    print('String contains items apart from alphabets, digits and whitespace.')\n",
    "\n"
   ]
  },
  {
   "cell_type": "code",
   "execution_count": 2,
   "metadata": {
    "scrolled": false
   },
   "outputs": [
    {
     "name": "stdout",
     "output_type": "stream",
     "text": [
      "['Arghya', '\\nArghya', 'Arghya\\n', 'Arghya', ' Arghya', 'Arghya ']\n",
      "\n",
      "ARGHYA\n",
      "\n",
      "\n",
      "arghya\n",
      "\n",
      "True\n"
     ]
    }
   ],
   "source": [
    "string1 = '\\nArghya\\n'\n",
    "string2 = ' Arghya '\n",
    "print([string1.strip('\\n'), string1.rstrip('\\n'), string1.lstrip('\\n'), string2.strip(), string2.rstrip(), string2.lstrip()])\n",
    "print(string1.upper()) # \\n etc not affected by upper or lower \n",
    "print(string1.lower()) # these are mostly used to check yes/no\n",
    "#string.startswith(substring) # Returns bool, used to check file type\n",
    "#string.endswith(substring) # Returns bool\n",
    "#string.find(substring) # Returns lowest index of occurance, -1 if absent\n",
    "#string.replace(old,new) # Replace substring"
   ]
  },
  {
   "cell_type": "code",
   "execution_count": 13,
   "metadata": {},
   "outputs": [
    {
     "name": "stdout",
     "output_type": "stream",
     "text": [
      "Enter your first name: biswajit\n",
      "Enter your last name: sar\n",
      "Enter your University ID: 123\n",
      "Password should be atleast 7 characters and should be composed of numbers, lower and upper case alphabets only.\n",
      "Now set your password: 12345678\n",
      "Invalid password.\n",
      "Password should be atleast 7 characters and should be composed of numbers, lower and upper case alphabets only.\n",
      "Set your password: AA123456\n",
      "Invalid password.\n",
      "Password should be atleast 7 characters and should be composed of numbers, lower and upper case alphabets only.\n",
      "Set your password: Aa123456\n",
      "\n",
      "Your login id is: bissar123\n",
      "Your password is: Aa123456\n"
     ]
    }
   ],
   "source": [
    "def get_login(first, last, IDnum):\n",
    "    return first[:3].lower() + last[:3].lower() + IDnum[-3:]\n",
    "def val_pass(password):\n",
    "    length, ucase, lcase, digit = False, False, False, False\n",
    "    if len(password) >= 7:\n",
    "        length = True\n",
    "        for ch in password:\n",
    "            if ch.isupper():\n",
    "                ucase = True\n",
    "            if ch.islower(): #elif can make operation fast\n",
    "                lcase = True\n",
    "            if ch.isdigit():\n",
    "                digit = True\n",
    "    if length and ucase and lcase and digit:\n",
    "        is_val = True\n",
    "    else:\n",
    "        is_val = False\n",
    "    return is_val\n",
    "\n",
    "def main():\n",
    "    fi = input('Enter your first name: ')\n",
    "    la = input('Enter your last name: ')\n",
    "    ID = input('Enter your University ID: ')\n",
    "    while not (fi.isalpha() and la.isalpha() and ID.isalnum()):\n",
    "            print('Please input correct datatype.')\n",
    "            fi = input('Enter your first name: ')\n",
    "            la = input('Enter your last name: ')\n",
    "            ID = input('Enter your University ID: ')\n",
    "    print('Password should be atleast 7 characters and should be composed of numbers, lower and upper case alphabets only.')\n",
    "    password = input('Now set your password: ')\n",
    "    while not val_pass(password):\n",
    "        print('Invalid password.')\n",
    "        print('Password should be atleast 7 characters and should be composed of numbers, lower and upper case alphabets only.')\n",
    "        password = input('Set your password: ')\n",
    "    print()\n",
    "    print('Your login id is:', get_login(fi, la, ID))\n",
    "    print('Your password is:', password)   \n",
    "\n",
    "main()"
   ]
  },
  {
   "cell_type": "code",
   "execution_count": 14,
   "metadata": {},
   "outputs": [
    {
     "name": "stdout",
     "output_type": "stream",
     "text": [
      "['27', '06', '2002']\n"
     ]
    }
   ],
   "source": [
    "date_string = '27/06/2002'\n",
    "date_list = date_string.split('/')\n",
    "print(date_list)"
   ]
  },
  {
   "cell_type": "code",
   "execution_count": 36,
   "metadata": {
    "scrolled": true
   },
   "outputs": [
    {
     "name": "stdout",
     "output_type": "stream",
     "text": [
      "{'Arghya': '7972225358', 'Biswajit': '9175059059', 'Archana': '9623575725', 'Harsh': '7742468449'} 4\n",
      "\n",
      "7972225358\n",
      "7972225358\n",
      "Item not found\n",
      "\n",
      "Arghya 7972225358\n",
      "Biswajit 9175059059\n",
      "Archana 9623575725\n",
      "Harsh 7742468449\n",
      "dict_items([('Arghya', '7972225358'), ('Biswajit', '9175059059'), ('Archana', '9623575725'), ('Harsh', '7742468449')])\n",
      "Arghya 7972225358\n",
      "Biswajit 9175059059\n",
      "Archana 9623575725\n",
      "Harsh 7742468449\n",
      "dict_keys(['Arghya', 'Biswajit', 'Archana', 'Harsh'])\n",
      "['Arghya', 'Biswajit', 'Archana', 'Harsh']\n",
      "Arghya\n",
      "Biswajit\n",
      "Archana\n",
      "Harsh\n",
      "dict_values(['7972225358', '9175059059', '9623575725', '7742468449'])\n",
      "7972225358\n",
      "9175059059\n",
      "9623575725\n",
      "7742468449\n",
      "\n",
      "7742468449\n",
      "{'Arghya': '7972225358', 'Biswajit': '9175059059', 'Archana': '9623575725', 'Harsh': '7742468450'} 4\n",
      "('Harsh', '7742468450')\n",
      "{'Arghya': '7972225358', 'Biswajit': '9175059059', 'Archana': '9623575725'} 3\n",
      "\n",
      "{} 0\n"
     ]
    }
   ],
   "source": [
    "#Adding stuff\n",
    "phone_dic = {'Arghya':'7972225358', 'Biswajit':'9175059059', 'Archana':'9623575725'} \n",
    "# Can be anything string:string, int:string, tuple:list, list: string, etc.\n",
    "# Empty dict can be created by dict = {} or dict() eg. phone\n",
    "phone_dic['Harsh'] = '7742468449'\n",
    "print(phone_dic, len(phone_dic))\n",
    "\n",
    "\n",
    "#Retriving stuff\n",
    "print()\n",
    "if 'Arghya' in phone_dic: #phone_dic.get('Arghya', '')\n",
    "    print(phone_dic['Arghya'])\n",
    "#dict.get(key, default)\n",
    "#if key in dict:\n",
    "#    dict[key]\n",
    "#else:\n",
    "#    default\n",
    "print(phone_dic.get('Arghya', 'Item not found'))\n",
    "print(phone_dic.get('Vansh', 'Item not found'))\n",
    "\n",
    "print()\n",
    "for key in phone_dic:\n",
    "    print(key, phone_dic[key])\n",
    "print(phone_dic.items())\n",
    "for key, val in phone_dic.items():\n",
    "    print(key, val)\n",
    "print(phone_dic.keys())\n",
    "print(list(phone_dic.keys())) # Use list feature to make list subsriptionable ie obeying indexes\n",
    "for key in phone_dic.keys():\n",
    "    print(key)\n",
    "print(phone_dic.values())\n",
    "for val in phone_dic.values():\n",
    "    print(val)\n",
    "    \n",
    "\n",
    "#Deleting stuff\n",
    "print()\n",
    "#if 'Harsh' in phone_dic:\n",
    "#    del phone_dic['Harsh']\n",
    "#dict.pop(key, default) #dict.get which deletes the entry afterwards\n",
    "#if key in dict:\n",
    "#    dict[key]\n",
    "#    del dict[key]\n",
    "#else:\n",
    "#    default\n",
    "print(phone_dic.pop('Harsh', 'Item not found')) \n",
    "#key, value = dict.popitem() #deletes last entry retriving key and value\n",
    "print(phone_dic.popitem()) \n",
    "print(phone_dic, len(phone_dic))\n",
    "\n",
    "print()\n",
    "phone_dic.clear()\n",
    "print(phone_dic, len(phone_dic))"
   ]
  },
  {
   "cell_type": "code",
   "execution_count": 66,
   "metadata": {
    "scrolled": true
   },
   "outputs": [
    {
     "name": "stdout",
     "output_type": "stream",
     "text": [
      "How many cards should I deal? 34\n",
      "8 of Diamonds\n",
      "Ace of Hearts\n",
      "5 of Spades\n",
      "5 of Diamonds\n",
      "10 of Hearts\n",
      "10 of Diamonds\n",
      "6 of Diamonds\n",
      "3 of Spades\n",
      "2 of Spades\n",
      "9 of Hearts\n",
      "Queen of Clubs\n",
      "6 of Clubs\n",
      "4 of Diamonds\n",
      "Ace of Diamonds\n",
      "2 of Diamonds\n",
      "Queen of Spades\n",
      "7 of Diamonds\n",
      "Jack of Hearts\n",
      "Jack of Clubs\n",
      "Queen of Hearts\n",
      "4 of Clubs\n",
      "King of Clubs\n",
      "3 of Clubs\n",
      "5 of Clubs\n",
      "King of Hearts\n",
      "7 of Hearts\n",
      "Queen of Diamonds\n",
      "7 of Spades\n",
      "Ace of Spades\n",
      "King of Spades\n",
      "4 of Hearts\n",
      "King of Diamonds\n",
      "6 of Spades\n",
      "2 of Clubs\n",
      "Value at hand:  218\n"
     ]
    }
   ],
   "source": [
    "import random\n",
    "\n",
    "def create_deck():\n",
    "    deck = {}\n",
    "    types = ['Spades', 'Hearts', 'Clubs', 'Diamonds']\n",
    "    numbers = []\n",
    "    for num in range(1, 11):\n",
    "        numbers.append(num)\n",
    "    numbers.append('Jack')\n",
    "    numbers.append('King')\n",
    "    numbers.append('Queen')\n",
    "    for ty in types:\n",
    "        for nm in numbers:\n",
    "            if nm == 1:\n",
    "                deck['Ace of ' + ty] = 1\n",
    "            elif nm in range(2,11):\n",
    "                deck[str(nm) + ' of ' + ty] = nm\n",
    "            else:\n",
    "                deck[nm + ' of '+ ty] = 10\n",
    "    return deck\n",
    "\n",
    "def deal_cards(deck, number):\n",
    "    hand_value = 0\n",
    "    if number > len(deck):\n",
    "        number = len(deck)\n",
    "    for count in range(number):\n",
    "        card = list(deck.keys())[random.randint(0, len(deck)-1)] \n",
    "        print(card)\n",
    "        hand_value += deck.pop(card)\n",
    "    print('Value at hand: ', hand_value)\n",
    "\n",
    "def main():\n",
    "    deal_cards(create_deck(), int(input('How many cards should I deal? ')))\n",
    "\n",
    "#deck.pop(list(deck.keys())[random.randint(0, len(deck)+1)])\n",
    "main()"
   ]
  },
  {
   "cell_type": "markdown",
   "metadata": {},
   "source": [
    "#pseudo code birthday saver, \n",
    "#options: look up, add, change, delete\n",
    "#option selector while loop\n",
    "#all will have if-else statement (lookup using dict.get('String', 'default'))"
   ]
  },
  {
   "cell_type": "code",
   "execution_count": 2,
   "metadata": {},
   "outputs": [
    {
     "name": "stdout",
     "output_type": "stream",
     "text": [
      "{'b', 'c', ' ', 'a'}\n",
      "{'b', ' ', 'c', 'a'} 4\n",
      "{' ', 1, 2, 3, 'b', 'c', 'a'} 7\n",
      "{' ', 1, 2, 3, 4, 5, 'b', 'c', 'a'} 9\n",
      "{' ', 1, 2, 3, 4, 'b', 'a'} 7\n",
      "set() 0\n",
      "{1, 2, 3, 4, 5, 6}\n",
      "{1, 2, 3, 4, 5, 6}\n"
     ]
    },
    {
     "ename": "TypeError",
     "evalue": "unsupported operand type(s) for +: 'set' and 'set'",
     "output_type": "error",
     "traceback": [
      "\u001b[1;31m---------------------------------------------------------------------------\u001b[0m",
      "\u001b[1;31mTypeError\u001b[0m                                 Traceback (most recent call last)",
      "\u001b[1;32m<ipython-input-2-809c20e5e172>\u001b[0m in \u001b[0;36m<module>\u001b[1;34m\u001b[0m\n\u001b[0;32m     30\u001b[0m \u001b[0mprint\u001b[0m\u001b[1;33m(\u001b[0m\u001b[0mset1\u001b[0m\u001b[1;33m.\u001b[0m\u001b[0munion\u001b[0m\u001b[1;33m(\u001b[0m\u001b[0mset2\u001b[0m\u001b[1;33m)\u001b[0m\u001b[1;33m)\u001b[0m\u001b[1;33m\u001b[0m\u001b[1;33m\u001b[0m\u001b[0m\n\u001b[0;32m     31\u001b[0m \u001b[0mprint\u001b[0m\u001b[1;33m(\u001b[0m\u001b[0mset1\u001b[0m \u001b[1;33m|\u001b[0m \u001b[0mset2\u001b[0m\u001b[1;33m)\u001b[0m\u001b[1;33m\u001b[0m\u001b[1;33m\u001b[0m\u001b[0m\n\u001b[1;32m---> 32\u001b[1;33m \u001b[0mprint\u001b[0m\u001b[1;33m(\u001b[0m\u001b[0mset1\u001b[0m \u001b[1;33m+\u001b[0m \u001b[0mset2\u001b[0m\u001b[1;33m)\u001b[0m\u001b[1;33m\u001b[0m\u001b[1;33m\u001b[0m\u001b[0m\n\u001b[0m\u001b[0;32m     33\u001b[0m \u001b[0mprint\u001b[0m\u001b[1;33m(\u001b[0m\u001b[1;33m)\u001b[0m\u001b[1;33m\u001b[0m\u001b[1;33m\u001b[0m\u001b[0m\n\u001b[0;32m     34\u001b[0m \u001b[0mprint\u001b[0m\u001b[1;33m(\u001b[0m\u001b[0mset1\u001b[0m\u001b[1;33m.\u001b[0m\u001b[0mintersection\u001b[0m\u001b[1;33m(\u001b[0m\u001b[0mset2\u001b[0m\u001b[1;33m)\u001b[0m\u001b[1;33m)\u001b[0m\u001b[1;33m\u001b[0m\u001b[1;33m\u001b[0m\u001b[0m\n",
      "\u001b[1;31mTypeError\u001b[0m: unsupported operand type(s) for +: 'set' and 'set'"
     ]
    }
   ],
   "source": [
    "# call\n",
    "myset = set()\n",
    "myset = set(['a', 'b', 'c', ' '])\n",
    "print(myset)\n",
    "myset = set('aab bcc')\n",
    "print(myset, len(myset))\n",
    "\n",
    "# add/ update\n",
    "myset.add(1)\n",
    "myset.update([2, 3])\n",
    "print(myset, len(myset))\n",
    "setone = set([4, 5])\n",
    "myset.update(setone)\n",
    "print(myset, len(myset))\n",
    "#for val in myset:\n",
    "#    print(val)\n",
    "#if val in myset:\n",
    "#    print('val is in set')\n",
    "\n",
    "# remove/ discard/ clear\n",
    "myset.remove(5)\n",
    "myset.discard('c') #does not raise exception on passing wrong value\n",
    "print(myset, len(myset))\n",
    "myset.clear()\n",
    "print(myset, len(myset))\n",
    "\n",
    "# union intersection\n",
    "set1 = set([1, 2, 3, 4])\n",
    "set2 = set([3, 4, 5, 6])\n",
    "print(set1.union(set2))\n",
    "print(set1 | set2)\n",
    "print(set1.intersection(set2))\n",
    "print(set1 & set2)\n",
    "\n",
    "print(set1.difference(set2)) # set1 - (set1 | set2)\n",
    "print(set1 - set2)\n",
    "print(set1.symmetric_difference(set2)) # (set1 - (set1 | set2))|(set2 - (set1 | set2))\n",
    "print(set1 ^ set2)\n",
    "\n",
    "# subset superset\n",
    "set1 = set([1, 2, 3, 4])\n",
    "set2 = set([2, 3])\n",
    "print(set2.issubset(set1))\n",
    "print(set1.issuperset(set2))\n",
    "print(set1 <= set2)\n",
    "print(set1 >= set2)"
   ]
  },
  {
   "cell_type": "code",
   "execution_count": 12,
   "metadata": {},
   "outputs": [
    {
     "name": "stdout",
     "output_type": "stream",
     "text": [
      "Name: Arghya\n",
      "Age: 18\n",
      "Weight: 65\n",
      "Enter more data? (y/n): y\n",
      "Name: Biswajit\n",
      "Age: 50\n",
      "Weight: 58\n",
      "Enter more data? (y/n): y\n",
      "Name: Archana\n",
      "Age: 71\n",
      "Weight: 45\n",
      "Enter more data? (y/n): n\n",
      "Name: Arghya\n",
      "Age: 18\n",
      "Weight: 65.0\n",
      "\n",
      "Name: Biswajit\n",
      "Age: 50\n",
      "Weight: 58.0\n",
      "\n",
      "Name: Archana\n",
      "Age: 71\n",
      "Weight: 45.0\n",
      "\n"
     ]
    }
   ],
   "source": [
    "#pickle, binary .dat file\n",
    "import pickle\n",
    "\n",
    "def main():\n",
    "    again = 'y'\n",
    "    outfile = open('mydata.dat', 'wb') #write binary in .dat file\n",
    "    while again.lower() == 'y':\n",
    "        save_data(outfile)\n",
    "        again = input('Enter more data? (y/n): ')\n",
    "    outfile.close()\n",
    "    \n",
    "    end_file = False\n",
    "    infile = open('mydata.dat', 'rb') #read binary\n",
    "    while not end_file:\n",
    "        try:\n",
    "            display_data(infile)\n",
    "        except EOFError:\n",
    "            end_file = True\n",
    "    infile.close()            \n",
    "    \n",
    "def save_data(file):\n",
    "    person = dict()\n",
    "    person['name'] = input('Name: ')\n",
    "    person['age'] = int(input('Age: '))\n",
    "    person['weight'] = float(input('Weight: '))\n",
    "    pickle.dump(person, file) #pickle.dump(object, file)\n",
    "\n",
    "def display_data(file):\n",
    "    person = pickle.load(file) #pickle.load is similar to readline\n",
    "    print('Name:', person['name'])\n",
    "    print('Age:', person['age'])\n",
    "    print('Weight:', person['weight'])\n",
    "    print()\n",
    "\n",
    "main()"
   ]
  },
  {
   "cell_type": "code",
   "execution_count": 53,
   "metadata": {},
   "outputs": [
    {
     "name": "stdout",
     "output_type": "stream",
     "text": [
      "{'Asia': ['Afghanistan'], 'Europe': ['Albania', 'Andorra'], 'Africa': ['Algeria', 'Angola']}\n"
     ]
    }
   ],
   "source": [
    "def countries_info(file):\n",
    "    countries = dict()\n",
    "    infile = open(file, 'r')\n",
    "    info_line = infile.readline()\n",
    "    line = infile.readline()\n",
    "    while line != '':\n",
    "        line_list = line.rstrip('\\n').split(',')\n",
    "        countries[line_list[0]] = [line_list[1], int(line_list[2]), int(line_list[3]),\\\n",
    "                                   int(line_list[4]), int(line_list[2]) >= 3000000]\n",
    "        line = infile.readline()\n",
    "    infile.close()\n",
    "    return countries \n",
    "\n",
    "def big_countries(countries):\n",
    "    b_cont = dict()\n",
    "    for country in countries: # retrive country names\n",
    "        if not countries[country][4]: # if country is large\n",
    "            continent = countries[country][0]\n",
    "            if continent in b_cont: #if conti in list of conti\n",
    "                b_cont[continent].append(country) #append contry to conti\n",
    "            else:\n",
    "                b_cont[continent] = [country]          \n",
    "    return b_cont                   \n",
    "\n",
    "print(big_countries(countries_info('countries.txt')))"
   ]
  },
  {
   "cell_type": "code",
   "execution_count": 7,
   "metadata": {
    "scrolled": true
   },
   "outputs": [
    {
     "name": "stdout",
     "output_type": "stream",
     "text": [
      "Please enter the sentence you would like to convert: 465 hdrg 6745\n",
      "111010001 hdrg 1101001011001\n"
     ]
    }
   ],
   "source": [
    "def DecimalToBinary(num):\n",
    "    q = int(num)\n",
    "    binary = 0\n",
    "    i = 0\n",
    "    while q != 0:\n",
    "        rem = q % 2\n",
    "        binary += rem * (10**i)\n",
    "        q = q // 2\n",
    "        i += 1\n",
    "    return binary\n",
    "\n",
    "#print(\"The Binary format for given number is {0}\".format(binary))\n",
    "\n",
    "def main_2():\n",
    "    sent = input('Please enter the sentence you would like to convert: ')\n",
    "    new_sent = ''\n",
    "    num = ''\n",
    "    i = 0         #character index\n",
    "    for ch in sent:\n",
    "        try:\n",
    "            int(ch)\n",
    "            num += ch\n",
    "            try:\n",
    "                if i+1 < len(sent)-1:\n",
    "                    int(sent[i+1])\n",
    "                else:\n",
    "                    new_sent += str(DecimalToBinary(num))\n",
    "            except ValueError:\n",
    "                #print(str(DecimalToBinary(num)))\n",
    "                new_sent += str(DecimalToBinary(num))  \n",
    "                num = ''\n",
    "        except ValueError:\n",
    "            new_sent += ch\n",
    "        i += 1\n",
    "    print(new_sent)\n",
    "\n",
    "def main():\n",
    "    sent = input('Please enter the sentence you would like to convert: ')\n",
    "    new_sent = ''\n",
    "    num = ''\n",
    "    i = 0         #character index\n",
    "    for ch in sent:\n",
    "        if ch.isdigit():\n",
    "            num += ch\n",
    "            if i+1 == len(sent): # if last character is number\n",
    "                new_sent += str(DecimalToBinary(num))\n",
    "            elif sent[i+1].isdigit():\n",
    "                pass\n",
    "            else:\n",
    "                new_sent += str(DecimalToBinary(num))  \n",
    "                num = ''                \n",
    "        else:\n",
    "            new_sent += ch\n",
    "        i += 1\n",
    "    print(new_sent)\n",
    "\n",
    "main()\n",
    "#print(DecimalToBinary(input('Enter num you would like to conv to binary:')))"
   ]
  },
  {
   "cell_type": "code",
   "execution_count": 9,
   "metadata": {
    "scrolled": false
   },
   "outputs": [
    {
     "name": "stdout",
     "output_type": "stream",
     "text": [
      "78\n"
     ]
    }
   ],
   "source": [
    "biny = 1001110\n",
    "biny = str(biny)\n",
    "basten = 0\n",
    "for b in range(len(biny)):\n",
    "    basten += int(biny[len(biny)-b-1])*(2**b)\n",
    "print(basten)"
   ]
  },
  {
   "cell_type": "code",
   "execution_count": 18,
   "metadata": {
    "scrolled": true
   },
   "outputs": [
    {
     "name": "stdout",
     "output_type": "stream",
     "text": [
      "Please enter a number: 60\n",
      "There are 109 digits before 60\n"
     ]
    }
   ],
   "source": [
    "number = int(input('Please enter a number: '))\n",
    "num_len = len(str(number))\n",
    "dig_bef = 0\n",
    "for k in range(1, num_len):\n",
    "    dig_bef += 9*k*(10**(k-1))\n",
    "dig_bef += num_len*(number-(10**(num_len-1)))\n",
    "print('There are', format(dig_bef, '.0f'), 'digits before', number)"
   ]
  },
  {
   "cell_type": "code",
   "execution_count": 16,
   "metadata": {},
   "outputs": [
    {
     "name": "stdout",
     "output_type": "stream",
     "text": [
      "Please enter a number: 624597\n",
      "There are 3636471 digits before 624597\n"
     ]
    }
   ],
   "source": [
    "number = int(input('Please enter a number: '))\n",
    "dig_bef = ''\n",
    "for k in range(number):\n",
    "    dig_bef += str(k)\n",
    "print('There are', format(len(dig_bef)-1, '.0f'), 'digits before', number)"
   ]
  },
  {
   "cell_type": "code",
   "execution_count": 4,
   "metadata": {},
   "outputs": [
    {
     "name": "stdout",
     "output_type": "stream",
     "text": [
      "1\n",
      "2\n",
      "3\n",
      "6\n",
      "337\n",
      "674\n",
      "1011\n"
     ]
    }
   ],
   "source": [
    "num = 2022\n",
    "\n",
    "n = 1\n",
    "while n < num:\n",
    "    if num%n == 0:\n",
    "        print(n)\n",
    "    n += 1"
   ]
  },
  {
   "cell_type": "code",
   "execution_count": null,
   "metadata": {},
   "outputs": [],
   "source": []
  }
 ],
 "metadata": {
  "kernelspec": {
   "display_name": "Python 3",
   "language": "python",
   "name": "python3"
  },
  "language_info": {
   "codemirror_mode": {
    "name": "ipython",
    "version": 3
   },
   "file_extension": ".py",
   "mimetype": "text/x-python",
   "name": "python",
   "nbconvert_exporter": "python",
   "pygments_lexer": "ipython3",
   "version": "3.7.6"
  }
 },
 "nbformat": 4,
 "nbformat_minor": 4
}
