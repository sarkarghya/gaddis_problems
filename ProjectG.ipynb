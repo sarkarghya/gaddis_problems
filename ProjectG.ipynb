{
 "cells": [
  {
   "cell_type": "code",
   "execution_count": 1,
   "metadata": {},
   "outputs": [],
   "source": [
    "import os\n",
    "import pandas as pd"
   ]
  },
  {
   "cell_type": "code",
   "execution_count": null,
   "metadata": {},
   "outputs": [],
   "source": [
    "eosinophil = \"F:\\ds\\blood_type\\dataset2-master\\dataset2-master\\images\\TRAIN\\EOSINOPHIL\"\n",
    "lymphocyte = \"F:\\ds\\blood_type\\dataset2-master\\dataset2-master\\images\\TRAIN\\LYMPHOCYTE\"\n",
    "monocyte = \"F:\\ds\\blood_type\\dataset2-master\\dataset2-master\\images\\TRAIN\\MONOCYTE\"\n",
    "neutrophil = \"F:\\ds\\blood_type\\dataset2-master\\dataset2-master\\images\\TRAIN\\NEUTROPHIL\""
   ]
  },
  {
   "cell_type": "code",
   "execution_count": 8,
   "metadata": {},
   "outputs": [
    {
     "data": {
      "text/plain": [
       "['eosinophil', 'lymphocyte', 'monocyte', 'neutrophil']"
      ]
     },
     "execution_count": 8,
     "metadata": {},
     "output_type": "execute_result"
    }
   ],
   "source": [
    "data_folders = ['eosinophil',\n",
    " 'lymphocyte',\n",
    " 'monocyte',\n",
    " 'neutrophil']\n",
    "data_folders"
   ]
  },
  {
   "cell_type": "code",
   "execution_count": null,
   "metadata": {},
   "outputs": [],
   "source": [
    "files_dict = dict(zip(data_folders, filenames))"
   ]
  },
  {
   "cell_type": "code",
   "execution_count": null,
   "metadata": {},
   "outputs": [],
   "source": [
    "base_gcs_path = 'gs://asra_main/blood_types/'"
   ]
  },
  {
   "cell_type": "code",
   "execution_count": null,
   "metadata": {},
   "outputs": [],
   "source": [
    "# gs://cloudml-demo-vcm/chairs_table_bike/chair_black/chair_black157.jpg, 'chair_black' \n",
    "# base_gcs_path + dict_key + '/' + filename\n",
    "\n",
    "data_array = []\n",
    "\n",
    "for (dict_key, files_list) in files_dict.items():\n",
    "    for filename in files_list:\n",
    "#         print(base_gcs_path + dict_key + '/' + filename)\n",
    "        if '.jpg' not in filename: \n",
    "            continue # don't include non-photos\n",
    "\n",
    "        label = dict_key\n",
    "#         label = 'chair' if 'chair' in dict_key else dict_key # for grouping all chairs as one label\n",
    "        \n",
    "        data_array.append((base_gcs_path + dict_key + '/' + filename , label))"
   ]
  },
  {
   "cell_type": "code",
   "execution_count": 10,
   "metadata": {},
   "outputs": [
    {
     "ename": "NameError",
     "evalue": "name 'data_array' is not defined",
     "output_type": "error",
     "traceback": [
      "\u001b[1;31m---------------------------------------------------------------------------\u001b[0m",
      "\u001b[1;31mNameError\u001b[0m                                 Traceback (most recent call last)",
      "\u001b[1;32m<ipython-input-10-50488f541488>\u001b[0m in \u001b[0;36m<module>\u001b[1;34m\u001b[0m\n\u001b[1;32m----> 1\u001b[1;33m \u001b[0mdata_array\u001b[0m\u001b[1;33m\u001b[0m\u001b[1;33m\u001b[0m\u001b[0m\n\u001b[0m",
      "\u001b[1;31mNameError\u001b[0m: name 'data_array' is not defined"
     ]
    }
   ],
   "source": [
    "data_array"
   ]
  },
  {
   "cell_type": "code",
   "execution_count": null,
   "metadata": {},
   "outputs": [],
   "source": []
  }
 ],
 "metadata": {
  "kernelspec": {
   "display_name": "Python 3",
   "language": "python",
   "name": "python3"
  },
  "language_info": {
   "codemirror_mode": {
    "name": "ipython",
    "version": 3
   },
   "file_extension": ".py",
   "mimetype": "text/x-python",
   "name": "python",
   "nbconvert_exporter": "python",
   "pygments_lexer": "ipython3",
   "version": "3.7.6"
  }
 },
 "nbformat": 4,
 "nbformat_minor": 4
}
