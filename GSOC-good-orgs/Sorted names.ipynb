{
 "cells": [
  {
   "cell_type": "code",
   "execution_count": 7,
   "id": "6290c2f0",
   "metadata": {},
   "outputs": [],
   "source": [
    "years = ['2021', '2020', '2019'\n",
    "#        ,'2018'\n",
    "        ]\n",
    "\n",
    "orgs = dict()\n",
    "\n",
    "def common_items():\n",
    "    for year in years:\n",
    "        fil = open( year + '.txt', 'r')\n",
    "        comp_name = fil.readline().rstrip('\\n')\n",
    "        while comp_name != '':\n",
    "            if comp_name in orgs:\n",
    "                orgs[comp_name].append(year)\n",
    "            else:\n",
    "                orgs[comp_name] = [year] \n",
    "            comp_name = fil.readline().rstrip('\\n')\n",
    "        fil.close()\n",
    "\n",
    "def single_count(dic):\n",
    "    lisa = []\n",
    "    for item in dic:\n",
    "        if len(dic[item]) == 3:\n",
    "            lisa.append(item)\n",
    "        else:\n",
    "            pass\n",
    "    return lisa\n",
    "\n",
    "def print_items(lis):\n",
    "    for item in lis:\n",
    "        print(item)\n",
    "        \n",
    "def  write_list(lis, name):\n",
    "    outfile = open( name + '.txt', 'w')\n",
    "    for item in lis:\n",
    "        outfile.write(item + '\\n')\n",
    "    outfile.close()\n",
    "\n",
    "def differentiate(lisa):\n",
    "    onez = []\n",
    "    comp_file = open('2020.txt', 'r')\n",
    "    line = comp_file.readline().rstrip('\\n')\n",
    "    while line != '':\n",
    "        if line in lisa:\n",
    "            onez.append(str(0))\n",
    "        else:\n",
    "            onez.append(str(1))\n",
    "        line = comp_file.readline().rstrip('\\n')\n",
    "    comp_file.close()\n",
    "    return onez\n",
    "\n",
    "common_items()\n",
    "write_list(differentiate(single_count(orgs)), 'temp')\n",
    "\n",
    "#print(collect_dictionary(orgs))\n"
   ]
  },
  {
   "cell_type": "code",
   "execution_count": null,
   "id": "e0ce6b3f",
   "metadata": {},
   "outputs": [],
   "source": []
  }
 ],
 "metadata": {
  "kernelspec": {
   "display_name": "Python 3",
   "language": "python",
   "name": "python3"
  },
  "language_info": {
   "codemirror_mode": {
    "name": "ipython",
    "version": 3
   },
   "file_extension": ".py",
   "mimetype": "text/x-python",
   "name": "python",
   "nbconvert_exporter": "python",
   "pygments_lexer": "ipython3",
   "version": "3.5.2"
  }
 },
 "nbformat": 4,
 "nbformat_minor": 5
}
